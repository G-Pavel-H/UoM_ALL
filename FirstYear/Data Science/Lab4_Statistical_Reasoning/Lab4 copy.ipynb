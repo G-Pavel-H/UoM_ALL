{
 "cells": [
  {
   "cell_type": "markdown",
   "metadata": {},
   "source": [
    "## Lab 4 - Hypothesis testing and statistical analysis"
   ]
  },
  {
   "cell_type": "markdown",
   "metadata": {},
   "source": [
    "Please read this to the end before starting. There is important information towards the end."
   ]
  },
  {
   "cell_type": "markdown",
   "metadata": {},
   "source": [
    "## Get the data (1 mark)"
   ]
  },
  {
   "cell_type": "markdown",
   "metadata": {},
   "source": [
    "The data is in /usr/info/courses/COMP13212/census11sample.csv. Read it in to a dataframe.\n",
    "\n",
    "This data consists of samples of ages from the 2011 census in England for different regions. Each data point is the age at the last birthday of an individual. So, a zero is a person who has not reached their first birthday, a 35 is a person who is 35 years old, and so on. The exception is that the age 100 really means between 100 and 114. Apparently, the Office for National Statistics filtered out everyone over 114. There is a sample of 1000 individual ages for each of nine regions. The data is derived from the Office for National Statistics: 2011 Census aggregate data. UK Data Service (Edition: February 2017). DOI: http://dx.doi.org/10.5257/census/aggregate-2011-2, but was taken from the InFuse website, http://infuse2011.ukdataservice.ac.uk. The samples were sampled from this data by Jonathan Shapiro."
   ]
  },
  {
   "cell_type": "code",
   "execution_count": 1,
   "metadata": {},
   "outputs": [
    {
     "data": {
      "text/html": [
       "<div>\n",
       "<style scoped>\n",
       "    .dataframe tbody tr th:only-of-type {\n",
       "        vertical-align: middle;\n",
       "    }\n",
       "\n",
       "    .dataframe tbody tr th {\n",
       "        vertical-align: top;\n",
       "    }\n",
       "\n",
       "    .dataframe thead th {\n",
       "        text-align: right;\n",
       "    }\n",
       "</style>\n",
       "<table border=\"1\" class=\"dataframe\">\n",
       "  <thead>\n",
       "    <tr style=\"text-align: right;\">\n",
       "      <th></th>\n",
       "      <th>North East</th>\n",
       "      <th>North West</th>\n",
       "      <th>Yorkshire and The Humber</th>\n",
       "      <th>East Midlands</th>\n",
       "      <th>West Midlands</th>\n",
       "      <th>East of England</th>\n",
       "      <th>London</th>\n",
       "      <th>South East</th>\n",
       "      <th>South West</th>\n",
       "    </tr>\n",
       "  </thead>\n",
       "  <tbody>\n",
       "    <tr>\n",
       "      <th>0</th>\n",
       "      <td>27</td>\n",
       "      <td>32</td>\n",
       "      <td>65</td>\n",
       "      <td>60</td>\n",
       "      <td>44</td>\n",
       "      <td>79</td>\n",
       "      <td>43</td>\n",
       "      <td>8</td>\n",
       "      <td>9</td>\n",
       "    </tr>\n",
       "    <tr>\n",
       "      <th>1</th>\n",
       "      <td>10</td>\n",
       "      <td>36</td>\n",
       "      <td>40</td>\n",
       "      <td>19</td>\n",
       "      <td>52</td>\n",
       "      <td>46</td>\n",
       "      <td>58</td>\n",
       "      <td>87</td>\n",
       "      <td>40</td>\n",
       "    </tr>\n",
       "    <tr>\n",
       "      <th>2</th>\n",
       "      <td>82</td>\n",
       "      <td>53</td>\n",
       "      <td>60</td>\n",
       "      <td>34</td>\n",
       "      <td>2</td>\n",
       "      <td>29</td>\n",
       "      <td>18</td>\n",
       "      <td>46</td>\n",
       "      <td>57</td>\n",
       "    </tr>\n",
       "    <tr>\n",
       "      <th>3</th>\n",
       "      <td>33</td>\n",
       "      <td>63</td>\n",
       "      <td>25</td>\n",
       "      <td>60</td>\n",
       "      <td>9</td>\n",
       "      <td>26</td>\n",
       "      <td>30</td>\n",
       "      <td>52</td>\n",
       "      <td>74</td>\n",
       "    </tr>\n",
       "    <tr>\n",
       "      <th>4</th>\n",
       "      <td>55</td>\n",
       "      <td>98</td>\n",
       "      <td>4</td>\n",
       "      <td>47</td>\n",
       "      <td>58</td>\n",
       "      <td>37</td>\n",
       "      <td>18</td>\n",
       "      <td>67</td>\n",
       "      <td>19</td>\n",
       "    </tr>\n",
       "    <tr>\n",
       "      <th>...</th>\n",
       "      <td>...</td>\n",
       "      <td>...</td>\n",
       "      <td>...</td>\n",
       "      <td>...</td>\n",
       "      <td>...</td>\n",
       "      <td>...</td>\n",
       "      <td>...</td>\n",
       "      <td>...</td>\n",
       "      <td>...</td>\n",
       "    </tr>\n",
       "    <tr>\n",
       "      <th>995</th>\n",
       "      <td>42</td>\n",
       "      <td>59</td>\n",
       "      <td>47</td>\n",
       "      <td>37</td>\n",
       "      <td>61</td>\n",
       "      <td>67</td>\n",
       "      <td>29</td>\n",
       "      <td>16</td>\n",
       "      <td>21</td>\n",
       "    </tr>\n",
       "    <tr>\n",
       "      <th>996</th>\n",
       "      <td>49</td>\n",
       "      <td>45</td>\n",
       "      <td>16</td>\n",
       "      <td>80</td>\n",
       "      <td>87</td>\n",
       "      <td>86</td>\n",
       "      <td>4</td>\n",
       "      <td>79</td>\n",
       "      <td>74</td>\n",
       "    </tr>\n",
       "    <tr>\n",
       "      <th>997</th>\n",
       "      <td>31</td>\n",
       "      <td>5</td>\n",
       "      <td>25</td>\n",
       "      <td>39</td>\n",
       "      <td>52</td>\n",
       "      <td>22</td>\n",
       "      <td>17</td>\n",
       "      <td>8</td>\n",
       "      <td>34</td>\n",
       "    </tr>\n",
       "    <tr>\n",
       "      <th>998</th>\n",
       "      <td>38</td>\n",
       "      <td>69</td>\n",
       "      <td>52</td>\n",
       "      <td>4</td>\n",
       "      <td>3</td>\n",
       "      <td>76</td>\n",
       "      <td>24</td>\n",
       "      <td>51</td>\n",
       "      <td>94</td>\n",
       "    </tr>\n",
       "    <tr>\n",
       "      <th>999</th>\n",
       "      <td>73</td>\n",
       "      <td>29</td>\n",
       "      <td>59</td>\n",
       "      <td>25</td>\n",
       "      <td>58</td>\n",
       "      <td>43</td>\n",
       "      <td>24</td>\n",
       "      <td>32</td>\n",
       "      <td>0</td>\n",
       "    </tr>\n",
       "  </tbody>\n",
       "</table>\n",
       "<p>1000 rows × 9 columns</p>\n",
       "</div>"
      ],
      "text/plain": [
       "     North East  North West  Yorkshire and The Humber  East Midlands  \\\n",
       "0            27          32                        65             60   \n",
       "1            10          36                        40             19   \n",
       "2            82          53                        60             34   \n",
       "3            33          63                        25             60   \n",
       "4            55          98                         4             47   \n",
       "..          ...         ...                       ...            ...   \n",
       "995          42          59                        47             37   \n",
       "996          49          45                        16             80   \n",
       "997          31           5                        25             39   \n",
       "998          38          69                        52              4   \n",
       "999          73          29                        59             25   \n",
       "\n",
       "     West Midlands  East of England  London  South East  South West  \n",
       "0               44               79      43           8           9  \n",
       "1               52               46      58          87          40  \n",
       "2                2               29      18          46          57  \n",
       "3                9               26      30          52          74  \n",
       "4               58               37      18          67          19  \n",
       "..             ...              ...     ...         ...         ...  \n",
       "995             61               67      29          16          21  \n",
       "996             87               86       4          79          74  \n",
       "997             52               22      17           8          34  \n",
       "998              3               76      24          51          94  \n",
       "999             58               43      24          32           0  \n",
       "\n",
       "[1000 rows x 9 columns]"
      ]
     },
     "execution_count": 1,
     "metadata": {},
     "output_type": "execute_result"
    }
   ],
   "source": [
    "import pandas as pd\n",
    "import matplotlib.pyplot as plt\n",
    "import seaborn as sns\n",
    "import math\n",
    "from scipy.stats import norm\n",
    "from scipy import stats\n",
    "import numpy as np\n",
    "\n",
    "sns.set_style('white')\n",
    "%matplotlib inline\n",
    "db = pd.read_csv('census11sample.csv', index_col=0)\n",
    "db"
   ]
  },
  {
   "cell_type": "markdown",
   "metadata": {},
   "source": [
    "## Divide the data (2 marks)"
   ]
  },
  {
   "cell_type": "markdown",
   "metadata": {},
   "source": [
    "You are going to explore this data and from your explorations devise a hypothesis to test. Once you generate a hypothesis, you need a fresh set of data on which to test it. If you use the same data, it is biased in favor of your hypothesis. So, split the data in to two parts, a set for exploration and hythesis generation, and a set on which to test the hypothesis. In what follows, I will call the two sets: sample_explore and sample_test. (You can call them whatever you want.)"
   ]
  },
  {
   "cell_type": "code",
   "execution_count": 3,
   "metadata": {},
   "outputs": [
    {
     "data": {
      "text/html": [
       "<div>\n",
       "<style scoped>\n",
       "    .dataframe tbody tr th:only-of-type {\n",
       "        vertical-align: middle;\n",
       "    }\n",
       "\n",
       "    .dataframe tbody tr th {\n",
       "        vertical-align: top;\n",
       "    }\n",
       "\n",
       "    .dataframe thead th {\n",
       "        text-align: right;\n",
       "    }\n",
       "</style>\n",
       "<table border=\"1\" class=\"dataframe\">\n",
       "  <thead>\n",
       "    <tr style=\"text-align: right;\">\n",
       "      <th></th>\n",
       "      <th>North East</th>\n",
       "      <th>North West</th>\n",
       "      <th>Yorkshire and The Humber</th>\n",
       "      <th>East Midlands</th>\n",
       "      <th>West Midlands</th>\n",
       "      <th>East of England</th>\n",
       "      <th>London</th>\n",
       "      <th>South East</th>\n",
       "      <th>South West</th>\n",
       "    </tr>\n",
       "  </thead>\n",
       "  <tbody>\n",
       "    <tr>\n",
       "      <th>0</th>\n",
       "      <td>27</td>\n",
       "      <td>32</td>\n",
       "      <td>65</td>\n",
       "      <td>60</td>\n",
       "      <td>44</td>\n",
       "      <td>79</td>\n",
       "      <td>43</td>\n",
       "      <td>8</td>\n",
       "      <td>9</td>\n",
       "    </tr>\n",
       "    <tr>\n",
       "      <th>1</th>\n",
       "      <td>10</td>\n",
       "      <td>36</td>\n",
       "      <td>40</td>\n",
       "      <td>19</td>\n",
       "      <td>52</td>\n",
       "      <td>46</td>\n",
       "      <td>58</td>\n",
       "      <td>87</td>\n",
       "      <td>40</td>\n",
       "    </tr>\n",
       "    <tr>\n",
       "      <th>2</th>\n",
       "      <td>82</td>\n",
       "      <td>53</td>\n",
       "      <td>60</td>\n",
       "      <td>34</td>\n",
       "      <td>2</td>\n",
       "      <td>29</td>\n",
       "      <td>18</td>\n",
       "      <td>46</td>\n",
       "      <td>57</td>\n",
       "    </tr>\n",
       "    <tr>\n",
       "      <th>3</th>\n",
       "      <td>33</td>\n",
       "      <td>63</td>\n",
       "      <td>25</td>\n",
       "      <td>60</td>\n",
       "      <td>9</td>\n",
       "      <td>26</td>\n",
       "      <td>30</td>\n",
       "      <td>52</td>\n",
       "      <td>74</td>\n",
       "    </tr>\n",
       "    <tr>\n",
       "      <th>4</th>\n",
       "      <td>55</td>\n",
       "      <td>98</td>\n",
       "      <td>4</td>\n",
       "      <td>47</td>\n",
       "      <td>58</td>\n",
       "      <td>37</td>\n",
       "      <td>18</td>\n",
       "      <td>67</td>\n",
       "      <td>19</td>\n",
       "    </tr>\n",
       "    <tr>\n",
       "      <th>...</th>\n",
       "      <td>...</td>\n",
       "      <td>...</td>\n",
       "      <td>...</td>\n",
       "      <td>...</td>\n",
       "      <td>...</td>\n",
       "      <td>...</td>\n",
       "      <td>...</td>\n",
       "      <td>...</td>\n",
       "      <td>...</td>\n",
       "    </tr>\n",
       "    <tr>\n",
       "      <th>495</th>\n",
       "      <td>27</td>\n",
       "      <td>37</td>\n",
       "      <td>30</td>\n",
       "      <td>65</td>\n",
       "      <td>21</td>\n",
       "      <td>20</td>\n",
       "      <td>43</td>\n",
       "      <td>62</td>\n",
       "      <td>48</td>\n",
       "    </tr>\n",
       "    <tr>\n",
       "      <th>496</th>\n",
       "      <td>63</td>\n",
       "      <td>39</td>\n",
       "      <td>76</td>\n",
       "      <td>57</td>\n",
       "      <td>47</td>\n",
       "      <td>77</td>\n",
       "      <td>56</td>\n",
       "      <td>64</td>\n",
       "      <td>68</td>\n",
       "    </tr>\n",
       "    <tr>\n",
       "      <th>497</th>\n",
       "      <td>62</td>\n",
       "      <td>26</td>\n",
       "      <td>21</td>\n",
       "      <td>69</td>\n",
       "      <td>14</td>\n",
       "      <td>53</td>\n",
       "      <td>3</td>\n",
       "      <td>65</td>\n",
       "      <td>19</td>\n",
       "    </tr>\n",
       "    <tr>\n",
       "      <th>498</th>\n",
       "      <td>15</td>\n",
       "      <td>68</td>\n",
       "      <td>4</td>\n",
       "      <td>63</td>\n",
       "      <td>44</td>\n",
       "      <td>7</td>\n",
       "      <td>23</td>\n",
       "      <td>36</td>\n",
       "      <td>8</td>\n",
       "    </tr>\n",
       "    <tr>\n",
       "      <th>499</th>\n",
       "      <td>14</td>\n",
       "      <td>44</td>\n",
       "      <td>17</td>\n",
       "      <td>38</td>\n",
       "      <td>14</td>\n",
       "      <td>40</td>\n",
       "      <td>20</td>\n",
       "      <td>10</td>\n",
       "      <td>73</td>\n",
       "    </tr>\n",
       "  </tbody>\n",
       "</table>\n",
       "<p>500 rows × 9 columns</p>\n",
       "</div>"
      ],
      "text/plain": [
       "     North East  North West  Yorkshire and The Humber  East Midlands  \\\n",
       "0            27          32                        65             60   \n",
       "1            10          36                        40             19   \n",
       "2            82          53                        60             34   \n",
       "3            33          63                        25             60   \n",
       "4            55          98                         4             47   \n",
       "..          ...         ...                       ...            ...   \n",
       "495          27          37                        30             65   \n",
       "496          63          39                        76             57   \n",
       "497          62          26                        21             69   \n",
       "498          15          68                         4             63   \n",
       "499          14          44                        17             38   \n",
       "\n",
       "     West Midlands  East of England  London  South East  South West  \n",
       "0               44               79      43           8           9  \n",
       "1               52               46      58          87          40  \n",
       "2                2               29      18          46          57  \n",
       "3                9               26      30          52          74  \n",
       "4               58               37      18          67          19  \n",
       "..             ...              ...     ...         ...         ...  \n",
       "495             21               20      43          62          48  \n",
       "496             47               77      56          64          68  \n",
       "497             14               53       3          65          19  \n",
       "498             44                7      23          36           8  \n",
       "499             14               40      20          10          73  \n",
       "\n",
       "[500 rows x 9 columns]"
      ]
     },
     "execution_count": 3,
     "metadata": {},
     "output_type": "execute_result"
    }
   ],
   "source": [
    "db_explore = db[:500]\n",
    "db_test = db[500:]\n",
    "db_explore"
   ]
  },
  {
   "cell_type": "code",
   "execution_count": 4,
   "metadata": {},
   "outputs": [
    {
     "data": {
      "text/html": [
       "<div>\n",
       "<style scoped>\n",
       "    .dataframe tbody tr th:only-of-type {\n",
       "        vertical-align: middle;\n",
       "    }\n",
       "\n",
       "    .dataframe tbody tr th {\n",
       "        vertical-align: top;\n",
       "    }\n",
       "\n",
       "    .dataframe thead th {\n",
       "        text-align: right;\n",
       "    }\n",
       "</style>\n",
       "<table border=\"1\" class=\"dataframe\">\n",
       "  <thead>\n",
       "    <tr style=\"text-align: right;\">\n",
       "      <th></th>\n",
       "      <th>North East</th>\n",
       "      <th>North West</th>\n",
       "      <th>Yorkshire and The Humber</th>\n",
       "      <th>East Midlands</th>\n",
       "      <th>West Midlands</th>\n",
       "      <th>East of England</th>\n",
       "      <th>London</th>\n",
       "      <th>South East</th>\n",
       "      <th>South West</th>\n",
       "    </tr>\n",
       "  </thead>\n",
       "  <tbody>\n",
       "    <tr>\n",
       "      <th>500</th>\n",
       "      <td>38</td>\n",
       "      <td>77</td>\n",
       "      <td>14</td>\n",
       "      <td>27</td>\n",
       "      <td>31</td>\n",
       "      <td>6</td>\n",
       "      <td>15</td>\n",
       "      <td>67</td>\n",
       "      <td>58</td>\n",
       "    </tr>\n",
       "    <tr>\n",
       "      <th>501</th>\n",
       "      <td>58</td>\n",
       "      <td>19</td>\n",
       "      <td>62</td>\n",
       "      <td>53</td>\n",
       "      <td>3</td>\n",
       "      <td>23</td>\n",
       "      <td>37</td>\n",
       "      <td>9</td>\n",
       "      <td>60</td>\n",
       "    </tr>\n",
       "    <tr>\n",
       "      <th>502</th>\n",
       "      <td>11</td>\n",
       "      <td>14</td>\n",
       "      <td>51</td>\n",
       "      <td>24</td>\n",
       "      <td>32</td>\n",
       "      <td>31</td>\n",
       "      <td>28</td>\n",
       "      <td>73</td>\n",
       "      <td>53</td>\n",
       "    </tr>\n",
       "    <tr>\n",
       "      <th>503</th>\n",
       "      <td>53</td>\n",
       "      <td>50</td>\n",
       "      <td>44</td>\n",
       "      <td>80</td>\n",
       "      <td>1</td>\n",
       "      <td>62</td>\n",
       "      <td>39</td>\n",
       "      <td>5</td>\n",
       "      <td>80</td>\n",
       "    </tr>\n",
       "    <tr>\n",
       "      <th>504</th>\n",
       "      <td>55</td>\n",
       "      <td>66</td>\n",
       "      <td>44</td>\n",
       "      <td>84</td>\n",
       "      <td>67</td>\n",
       "      <td>42</td>\n",
       "      <td>26</td>\n",
       "      <td>45</td>\n",
       "      <td>3</td>\n",
       "    </tr>\n",
       "    <tr>\n",
       "      <th>...</th>\n",
       "      <td>...</td>\n",
       "      <td>...</td>\n",
       "      <td>...</td>\n",
       "      <td>...</td>\n",
       "      <td>...</td>\n",
       "      <td>...</td>\n",
       "      <td>...</td>\n",
       "      <td>...</td>\n",
       "      <td>...</td>\n",
       "    </tr>\n",
       "    <tr>\n",
       "      <th>995</th>\n",
       "      <td>42</td>\n",
       "      <td>59</td>\n",
       "      <td>47</td>\n",
       "      <td>37</td>\n",
       "      <td>61</td>\n",
       "      <td>67</td>\n",
       "      <td>29</td>\n",
       "      <td>16</td>\n",
       "      <td>21</td>\n",
       "    </tr>\n",
       "    <tr>\n",
       "      <th>996</th>\n",
       "      <td>49</td>\n",
       "      <td>45</td>\n",
       "      <td>16</td>\n",
       "      <td>80</td>\n",
       "      <td>87</td>\n",
       "      <td>86</td>\n",
       "      <td>4</td>\n",
       "      <td>79</td>\n",
       "      <td>74</td>\n",
       "    </tr>\n",
       "    <tr>\n",
       "      <th>997</th>\n",
       "      <td>31</td>\n",
       "      <td>5</td>\n",
       "      <td>25</td>\n",
       "      <td>39</td>\n",
       "      <td>52</td>\n",
       "      <td>22</td>\n",
       "      <td>17</td>\n",
       "      <td>8</td>\n",
       "      <td>34</td>\n",
       "    </tr>\n",
       "    <tr>\n",
       "      <th>998</th>\n",
       "      <td>38</td>\n",
       "      <td>69</td>\n",
       "      <td>52</td>\n",
       "      <td>4</td>\n",
       "      <td>3</td>\n",
       "      <td>76</td>\n",
       "      <td>24</td>\n",
       "      <td>51</td>\n",
       "      <td>94</td>\n",
       "    </tr>\n",
       "    <tr>\n",
       "      <th>999</th>\n",
       "      <td>73</td>\n",
       "      <td>29</td>\n",
       "      <td>59</td>\n",
       "      <td>25</td>\n",
       "      <td>58</td>\n",
       "      <td>43</td>\n",
       "      <td>24</td>\n",
       "      <td>32</td>\n",
       "      <td>0</td>\n",
       "    </tr>\n",
       "  </tbody>\n",
       "</table>\n",
       "<p>500 rows × 9 columns</p>\n",
       "</div>"
      ],
      "text/plain": [
       "     North East  North West  Yorkshire and The Humber  East Midlands  \\\n",
       "500          38          77                        14             27   \n",
       "501          58          19                        62             53   \n",
       "502          11          14                        51             24   \n",
       "503          53          50                        44             80   \n",
       "504          55          66                        44             84   \n",
       "..          ...         ...                       ...            ...   \n",
       "995          42          59                        47             37   \n",
       "996          49          45                        16             80   \n",
       "997          31           5                        25             39   \n",
       "998          38          69                        52              4   \n",
       "999          73          29                        59             25   \n",
       "\n",
       "     West Midlands  East of England  London  South East  South West  \n",
       "500             31                6      15          67          58  \n",
       "501              3               23      37           9          60  \n",
       "502             32               31      28          73          53  \n",
       "503              1               62      39           5          80  \n",
       "504             67               42      26          45           3  \n",
       "..             ...              ...     ...         ...         ...  \n",
       "995             61               67      29          16          21  \n",
       "996             87               86       4          79          74  \n",
       "997             52               22      17           8          34  \n",
       "998              3               76      24          51          94  \n",
       "999             58               43      24          32           0  \n",
       "\n",
       "[500 rows x 9 columns]"
      ]
     },
     "execution_count": 4,
     "metadata": {},
     "output_type": "execute_result"
    }
   ],
   "source": [
    "db_test"
   ]
  },
  {
   "cell_type": "markdown",
   "metadata": {},
   "source": [
    "## Explore the data (5 marks)"
   ]
  },
  {
   "cell_type": "markdown",
   "metadata": {},
   "source": [
    "Explore dataset sample_explore. Measure descriptive statistics, plot histograms, scatterplots, and whatever. Find something interesting in the data, and generate a hypothesis about it. Remember, a hypothesis is a statement which is true or false, and can be falsefied.  "
   ]
  },
  {
   "cell_type": "code",
   "execution_count": 4,
   "metadata": {},
   "outputs": [
    {
     "data": {
      "text/html": [
       "<div>\n",
       "<style scoped>\n",
       "    .dataframe tbody tr th:only-of-type {\n",
       "        vertical-align: middle;\n",
       "    }\n",
       "\n",
       "    .dataframe tbody tr th {\n",
       "        vertical-align: top;\n",
       "    }\n",
       "\n",
       "    .dataframe thead th {\n",
       "        text-align: right;\n",
       "    }\n",
       "</style>\n",
       "<table border=\"1\" class=\"dataframe\">\n",
       "  <thead>\n",
       "    <tr style=\"text-align: right;\">\n",
       "      <th></th>\n",
       "      <th>North East</th>\n",
       "      <th>North West</th>\n",
       "      <th>Yorkshire and The Humber</th>\n",
       "      <th>East Midlands</th>\n",
       "      <th>West Midlands</th>\n",
       "      <th>East of England</th>\n",
       "      <th>London</th>\n",
       "      <th>South East</th>\n",
       "      <th>South West</th>\n",
       "    </tr>\n",
       "  </thead>\n",
       "  <tbody>\n",
       "    <tr>\n",
       "      <th>count</th>\n",
       "      <td>500.000000</td>\n",
       "      <td>500.000000</td>\n",
       "      <td>500.000000</td>\n",
       "      <td>500.00000</td>\n",
       "      <td>500.000000</td>\n",
       "      <td>500.000000</td>\n",
       "      <td>500.00000</td>\n",
       "      <td>500.000000</td>\n",
       "      <td>500.00000</td>\n",
       "    </tr>\n",
       "    <tr>\n",
       "      <th>mean</th>\n",
       "      <td>41.120000</td>\n",
       "      <td>39.530000</td>\n",
       "      <td>38.492000</td>\n",
       "      <td>38.76000</td>\n",
       "      <td>40.582000</td>\n",
       "      <td>42.104000</td>\n",
       "      <td>35.07400</td>\n",
       "      <td>41.198000</td>\n",
       "      <td>43.42800</td>\n",
       "    </tr>\n",
       "    <tr>\n",
       "      <th>std</th>\n",
       "      <td>22.662409</td>\n",
       "      <td>23.727095</td>\n",
       "      <td>22.468101</td>\n",
       "      <td>23.71876</td>\n",
       "      <td>23.638037</td>\n",
       "      <td>24.282514</td>\n",
       "      <td>22.37834</td>\n",
       "      <td>23.157533</td>\n",
       "      <td>24.03948</td>\n",
       "    </tr>\n",
       "    <tr>\n",
       "      <th>min</th>\n",
       "      <td>0.000000</td>\n",
       "      <td>0.000000</td>\n",
       "      <td>0.000000</td>\n",
       "      <td>0.00000</td>\n",
       "      <td>0.000000</td>\n",
       "      <td>0.000000</td>\n",
       "      <td>0.00000</td>\n",
       "      <td>0.000000</td>\n",
       "      <td>0.00000</td>\n",
       "    </tr>\n",
       "    <tr>\n",
       "      <th>25%</th>\n",
       "      <td>23.000000</td>\n",
       "      <td>19.000000</td>\n",
       "      <td>21.000000</td>\n",
       "      <td>18.00000</td>\n",
       "      <td>20.000000</td>\n",
       "      <td>22.000000</td>\n",
       "      <td>17.00000</td>\n",
       "      <td>23.000000</td>\n",
       "      <td>23.00000</td>\n",
       "    </tr>\n",
       "    <tr>\n",
       "      <th>50%</th>\n",
       "      <td>42.000000</td>\n",
       "      <td>40.000000</td>\n",
       "      <td>37.000000</td>\n",
       "      <td>37.00000</td>\n",
       "      <td>42.000000</td>\n",
       "      <td>41.000000</td>\n",
       "      <td>33.50000</td>\n",
       "      <td>42.000000</td>\n",
       "      <td>44.00000</td>\n",
       "    </tr>\n",
       "    <tr>\n",
       "      <th>75%</th>\n",
       "      <td>58.000000</td>\n",
       "      <td>57.000000</td>\n",
       "      <td>54.000000</td>\n",
       "      <td>59.00000</td>\n",
       "      <td>59.000000</td>\n",
       "      <td>62.000000</td>\n",
       "      <td>51.00000</td>\n",
       "      <td>60.000000</td>\n",
       "      <td>61.00000</td>\n",
       "    </tr>\n",
       "    <tr>\n",
       "      <th>max</th>\n",
       "      <td>90.000000</td>\n",
       "      <td>98.000000</td>\n",
       "      <td>94.000000</td>\n",
       "      <td>90.00000</td>\n",
       "      <td>96.000000</td>\n",
       "      <td>97.000000</td>\n",
       "      <td>96.00000</td>\n",
       "      <td>92.000000</td>\n",
       "      <td>98.00000</td>\n",
       "    </tr>\n",
       "  </tbody>\n",
       "</table>\n",
       "</div>"
      ],
      "text/plain": [
       "       North East  North West  Yorkshire and The Humber  East Midlands  \\\n",
       "count  500.000000  500.000000                500.000000      500.00000   \n",
       "mean    41.120000   39.530000                 38.492000       38.76000   \n",
       "std     22.662409   23.727095                 22.468101       23.71876   \n",
       "min      0.000000    0.000000                  0.000000        0.00000   \n",
       "25%     23.000000   19.000000                 21.000000       18.00000   \n",
       "50%     42.000000   40.000000                 37.000000       37.00000   \n",
       "75%     58.000000   57.000000                 54.000000       59.00000   \n",
       "max     90.000000   98.000000                 94.000000       90.00000   \n",
       "\n",
       "       West Midlands  East of England     London  South East  South West  \n",
       "count     500.000000       500.000000  500.00000  500.000000   500.00000  \n",
       "mean       40.582000        42.104000   35.07400   41.198000    43.42800  \n",
       "std        23.638037        24.282514   22.37834   23.157533    24.03948  \n",
       "min         0.000000         0.000000    0.00000    0.000000     0.00000  \n",
       "25%        20.000000        22.000000   17.00000   23.000000    23.00000  \n",
       "50%        42.000000        41.000000   33.50000   42.000000    44.00000  \n",
       "75%        59.000000        62.000000   51.00000   60.000000    61.00000  \n",
       "max        96.000000        97.000000   96.00000   92.000000    98.00000  "
      ]
     },
     "execution_count": 4,
     "metadata": {},
     "output_type": "execute_result"
    }
   ],
   "source": [
    "db_explore.describe()"
   ]
  },
  {
   "cell_type": "code",
   "execution_count": 5,
   "metadata": {},
   "outputs": [
    {
     "data": {
      "text/plain": [
       "(30.0, 45.0)"
      ]
     },
     "execution_count": 5,
     "metadata": {},
     "output_type": "execute_result"
    },
    {
     "data": {
      "image/png": "[encoded data removed]",
      "text/plain": [
       "<Figure size 720x360 with 1 Axes>"
      ]
     },
     "metadata": {
      "needs_background": "light"
     },
     "output_type": "display_data"
    }
   ],
   "source": [
    "mean_df = pd.DataFrame(db_explore.mean().to_dict(),index=[db_explore.index.values[-1]] )\n",
    "mean_df = mean_df.rename(index={499:'Age'})\n",
    "mean_df = mean_df.transpose()\n",
    "ax = mean_df.plot.bar(rot=90, figsize = (10, 5), title=\"Age Mean along regions, England, 2011\", ylabel = 'Age', xlabel='Regions')\n",
    "ax.set_ylim(30, 45)"
   ]
  },
  {
   "cell_type": "code",
   "execution_count": 25,
   "metadata": {},
   "outputs": [
    {
     "data": {
      "text/plain": [
       "<AxesSubplot:title={'center':'Age frequency in South West'}, ylabel='Frequency'>"
      ]
     },
     "execution_count": 25,
     "metadata": {},
     "output_type": "execute_result"
    },
    {
     "data": {
      "image/png": "[encoded data removed]",
      "text/plain": [
       "<Figure size 720x360 with 1 Axes>"
      ]
     },
     "metadata": {
      "needs_background": "light"
     },
     "output_type": "display_data"
    }
   ],
   "source": [
    "db_explore['South West'].plot(kind=\"hist\", figsize=(10,5), title=\"Age frequency in South West\")\n"
   ]
  },
  {
   "cell_type": "code",
   "execution_count": 24,
   "metadata": {},
   "outputs": [
    {
     "data": {
      "text/plain": [
       "<AxesSubplot:title={'center':'Age frequency in London'}, ylabel='Frequency'>"
      ]
     },
     "execution_count": 24,
     "metadata": {},
     "output_type": "execute_result"
    },
    {
     "data": {
      "image/png": "[encoded data removed]",
      "text/plain": [
       "<Figure size 720x360 with 1 Axes>"
      ]
     },
     "metadata": {
      "needs_background": "light"
     },
     "output_type": "display_data"
    }
   ],
   "source": [
    "db_explore['London'].plot(kind=\"hist\", figsize=(10,5), title=\"Age frequency in London\")"
   ]
  },
  {
   "cell_type": "code",
   "execution_count": 27,
   "metadata": {},
   "outputs": [
    {
     "data": {
      "text/plain": [
       "<AxesSubplot:title={'center':'Age frequency of West England'}, ylabel='Frequency'>"
      ]
     },
     "execution_count": 27,
     "metadata": {},
     "output_type": "execute_result"
    },
    {
     "data": {
      "image/png": "[encoded data removed]",
      "text/plain": [
       "<Figure size 720x360 with 1 Axes>"
      ]
     },
     "metadata": {
      "needs_background": "light"
     },
     "output_type": "display_data"
    }
   ],
   "source": [
    "db_west = pd.concat([db_explore['North West'], db_explore['West Midlands'], db_explore['South West']])\n",
    "db_west.plot(kind=\"hist\", figsize=(10,5) , title=\"Age frequency of West England\")"
   ]
  },
  {
   "cell_type": "code",
   "execution_count": 28,
   "metadata": {},
   "outputs": [
    {
     "data": {
      "text/plain": [
       "<AxesSubplot:title={'center':'Age frequency in East England'}, ylabel='Frequency'>"
      ]
     },
     "execution_count": 28,
     "metadata": {},
     "output_type": "execute_result"
    },
    {
     "data": {
      "image/png": "[encoded data removed]",
      "text/plain": [
       "<Figure size 720x360 with 1 Axes>"
      ]
     },
     "metadata": {
      "needs_background": "light"
     },
     "output_type": "display_data"
    }
   ],
   "source": [
    "db_east = pd.concat([db_explore['North East'], db_explore['Yorkshire and The Humber'], db_explore['East Midlands'], db_explore['East of England']])\n",
    "db_east.plot(kind=\"hist\", figsize=(10,5), title=\"Age frequency in East England\")"
   ]
  },
  {
   "cell_type": "code",
   "execution_count": 10,
   "metadata": {},
   "outputs": [
    {
     "data": {
      "text/plain": [
       "(30.0, 45.0)"
      ]
     },
     "execution_count": 10,
     "metadata": {},
     "output_type": "execute_result"
    },
    {
     "data": {
      "image/png": "[encoded data removed]",
      "text/plain": [
       "<Figure size 720x360 with 1 Axes>"
      ]
     },
     "metadata": {
      "needs_background": "light"
     },
     "output_type": "display_data"
    }
   ],
   "source": [
    "median_df = pd.DataFrame(db_explore.median().to_dict(),index=[db_explore.index.values[-1]] )\n",
    "median_df = median_df.rename(index={499:'Age'})\n",
    "median_df = median_df.transpose()\n",
    "ax = median_df.plot.bar(rot=90, figsize = (10, 5), title=\"Age Median along regions, England, 2011\", ylabel = 'Age', xlabel='Regions')\n",
    "ax.set_ylim(30,45)"
   ]
  },
  {
   "cell_type": "code",
   "execution_count": 31,
   "metadata": {},
   "outputs": [
    {
     "name": "stdout",
     "output_type": "stream",
     "text": [
      "   London   West    East\n",
      "0  35.074  41.18  40.119\n"
     ]
    },
    {
     "data": {
      "text/plain": [
       "(30.0, 45.0)"
      ]
     },
     "execution_count": 31,
     "metadata": {},
     "output_type": "execute_result"
    },
    {
     "data": {
      "image/png": "[encoded data removed]",
      "text/plain": [
       "<Figure size 720x360 with 1 Axes>"
      ]
     },
     "metadata": {
      "needs_background": "light"
     },
     "output_type": "display_data"
    }
   ],
   "source": [
    "mean_of_west = db_west.mean()\n",
    "mean_of_east = db_east.mean()\n",
    "mean_of_London = db_explore['London'].mean()\n",
    "regions_data1 = {'London':mean_of_London, 'West':mean_of_west, 'East':mean_of_east}\n",
    "db_regions_mean = pd.DataFrame(data = regions_data1, index = [0])\n",
    "print(db_regions_mean)\n",
    "ax2 = db_regions_mean.plot.bar(rot=90, figsize = (10, 5), title=\"Mean of London, West and East\", ylabel = 'Age', xlabel='Regions')\n",
    "ax2.set_ylim(30,45)"
   ]
  },
  {
   "cell_type": "code",
   "execution_count": 32,
   "metadata": {
    "scrolled": false
   },
   "outputs": [
    {
     "name": "stdout",
     "output_type": "stream",
     "text": [
      "   London  West  East\n",
      "0  35.074  42.0  40.0\n"
     ]
    },
    {
     "data": {
      "text/plain": [
       "(30.0, 45.0)"
      ]
     },
     "execution_count": 32,
     "metadata": {},
     "output_type": "execute_result"
    },
    {
     "data": {
      "image/png": "[encoded data removed]",
      "text/plain": [
       "<Figure size 720x360 with 1 Axes>"
      ]
     },
     "metadata": {
      "needs_background": "light"
     },
     "output_type": "display_data"
    }
   ],
   "source": [
    "median_of_west = db_west.median()\n",
    "median_of_east = db_east.median()\n",
    "median_of_London = db_explore['London'].mean()\n",
    "regions_data2 = {'London':median_of_London, 'West':median_of_west, 'East':median_of_east}\n",
    "db_regions_median = pd.DataFrame(data = regions_data2, index = [0])\n",
    "print(db_regions_median)\n",
    "ax3 = db_regions_mean.plot.bar(rot=90, figsize = (10, 5), title=\"Median of London, West and East\", ylabel = 'Age', xlabel='Regions')\n",
    "ax3.set_ylim(30,45)"
   ]
  },
  {
   "cell_type": "markdown",
   "metadata": {},
   "source": [
    "## State your hypothesis, and state the evidence that justifies it. (2 marks)"
   ]
  },
  {
   "cell_type": "markdown",
   "metadata": {},
   "source": [
    "<b>Null hypothesis:</b> London's mean age is not less compared to West and East England.<br>\n",
    "<b>Alternative Hypothesis:</b> Mean age of London is less compared to all other parts of England. Evidence may be seen in the above bar charts and histograms where the mean and median for London are less from Eastern and Western regions' means and medians. The real life evidence may be the reason of London having the most numbers of Universities across England, being 18. Universities significantly increase the number of Young people aged from 18-25 which therefore makes London population young on average.\n"
   ]
  },
  {
   "cell_type": "markdown",
   "metadata": {},
   "source": [
    "## Plan the test. (3 marks)"
   ]
  },
  {
   "cell_type": "markdown",
   "metadata": {},
   "source": [
    "State how you plan to test the hypothesis briefly. State the null hypothesis and the probability level at which you will role it out (95%, 99%, etc.)."
   ]
  },
  {
   "cell_type": "markdown",
   "metadata": {},
   "source": [
    "In order to test the hypothesis, I will carry out a z-test as I have more than 30 data points and have the standard deviation of my data. I will be using the two sample z-test formula. I will find the mean age of London and the mean age of all other regions together. Then in the the z-test formula I will use the standard deviation of London with the sample number of 500 as I have 500 people from London and I will be using the mean of the stnadard deviation of all other regions and the sample amount will be 4500 as in totatl I will have that many poeple from other parts of England. I will role out the hypothesis at 95%. As the alternative hypothesis states that the London mean should be less then the mean of other regions, this will be lower tail test."
   ]
  },
  {
   "cell_type": "markdown",
   "metadata": {},
   "source": [
    "## Perform the statistical test of the hypothesis. (5 marks)"
   ]
  },
  {
   "cell_type": "markdown",
   "metadata": {},
   "source": [
    "You may do this using classical statistical methods, Bayesian methods, or, if you are uncomfortable with the notion that the data is normally distributed, you can use Monte Carlo (bootstrap) sampling. "
   ]
  },
  {
   "cell_type": "code",
   "execution_count": 4,
   "metadata": {},
   "outputs": [
    {
     "name": "stdout",
     "output_type": "stream",
     "text": [
      "East_West mean:  40.078857142857146\n",
      "London mean:  36.764\n",
      "Z value:  -3.1761105471295927\n",
      "Lower tail acceptance limit:  -1.6448536269514722\n"
     ]
    },
    {
     "data": {
      "image/png": "[encoded data removed]",
      "text/plain": [
       "<Figure size 432x288 with 1 Axes>"
      ]
     },
     "metadata": {
      "needs_background": "light"
     },
     "output_type": "display_data"
    }
   ],
   "source": [
    "london_test_mean = db_test['London'].mean()##London mean age\n",
    "db_east_west = pd.concat([db_test['North West'], db_test['West Midlands'], db_test['South West'], db_test['North East'], db_test['Yorkshire and The Humber'], db_test['East Midlands'], db_test['East of England']])\n",
    "east_west_mean = db_east_west.mean()##All other egions mean age\n",
    "print('East_West mean: ', east_west_mean)\n",
    "print('London mean: ', london_test_mean)\n",
    "est_wst_std = db_east_west.std().mean()##mean std from other regions\n",
    "lndn_std = db_test['London'].std()## London std\n",
    "z_score = ((london_test_mean-east_west_mean)/(math.sqrt(((lndn_std**2)/500) + ((est_wst_std**2)/4500))))\n",
    "## z_score fo two sample test\n",
    "print('Z value: ', z_score)\n",
    "\n",
    "x=np.arange(-4,4,0.05)\n",
    "y=norm.pdf(x,0,1)\n",
    "plt.plot(x,y,label='Normal PDF')\n",
    "plt.title('Normal distribution with mean 0 and var 1')\n",
    "lower = stats.norm.ppf(1-0.95,0,1)\n",
    "\n",
    "print('Lower tail acceptance limit: ', lower)\n",
    "plt.plot([lower,lower],[0,0.2],label=\"Lower tail\")\n",
    "plt.plot([z_score,z_score],[0,0.2],label=\"Z-score\")\n",
    "plt.legend()\n",
    "plt.show()"
   ]
  },
  {
   "cell_type": "markdown",
   "metadata": {},
   "source": [
    "As we can see the z score is well in the acceptance interval meaning that the alternative hypothesis is accepted. As the mean of London was 36 and the mean of other regions was around 40, I did not make any type 1 or type 2 errors."
   ]
  },
  {
   "cell_type": "code",
   "execution_count": 26,
   "metadata": {},
   "outputs": [],
   "source": [
    "mean_non_atheletes = 61.33\n",
    "mean_athletes = 66.33\n",
    "sd_non_athletes = 15.4\n",
    "sd_athletes = 13.6\n",
    "\n",
    "num_non_athletes = 53073\n",
    "num_athletes = 50420 "
   ]
  },
  {
   "cell_type": "code",
   "execution_count": 27,
   "metadata": {},
   "outputs": [],
   "source": [
    "z_score = ((mean_non_atheletes-mean_athletes)/(math.sqrt(((sd_non_athletes**2)/num_non_athletes) + ((sd_athletes**2)/num_athletes))))"
   ]
  },
  {
   "cell_type": "code",
   "execution_count": 28,
   "metadata": {},
   "outputs": [
    {
     "name": "stdout",
     "output_type": "stream",
     "text": [
      "Z value:  -55.42928049529341\n",
      "Lower tail acceptance limit:  -2.3263478740408408\n"
     ]
    },
    {
     "data": {
      "image/png": "[encoded data removed]",
      "text/plain": [
       "<Figure size 432x288 with 1 Axes>"
      ]
     },
     "metadata": {
      "needs_background": "light"
     },
     "output_type": "display_data"
    }
   ],
   "source": [
    "print('Z value: ', z_score)\n",
    "x=np.arange(-60,60,0.05)\n",
    "y=norm.pdf(x,0,1)\n",
    "plt.plot(x,y,label='Normal PDF')\n",
    "plt.title('Normal distribution with mean 0 and var 1')\n",
    "lower = stats.norm.ppf(1-0.99,0,1)\n",
    "\n",
    "print('Lower tail acceptance limit: ', lower)\n",
    "plt.plot([lower,lower],[0,0.2],label=\"Lower tail\")\n",
    "plt.plot([z_score,z_score],[0,0.2],label=\"Z-score\")\n",
    "plt.legend()\n",
    "plt.show()\n"
   ]
  },
  {
   "cell_type": "markdown",
   "metadata": {},
   "source": [
    "## Conclusions. (2 Marks) "
   ]
  },
  {
   "cell_type": "markdown",
   "metadata": {},
   "source": [
    "Write out your conclusion completely, but in a single sentence. E.g. \"Using the method of XXX, I find that the null hypothesis is/cannot be ruled out at Y percent level.\" "
   ]
  },
  {
   "cell_type": "markdown",
   "metadata": {},
   "source": [
    "Implementing z-test for the given scenario, I have found that the <b> null hypothesis  is ruled out at 95% </b>  level."
   ]
  },
  {
   "cell_type": "markdown",
   "metadata": {},
   "source": [
    "## What to submit."
   ]
  },
  {
   "cell_type": "markdown",
   "metadata": {},
   "source": [
    "You will submit a Jupyter Notebook/Lab to GitLab. The notebook needs to have the same headings as this document, but only up to the conclusions section. I.e. every section with a mark associated with it. Fill in each section with the appropriate text, code, measurements and graphics to perform the required tasks. You can start with this document, and fill it in. "
   ]
  },
  {
   "cell_type": "markdown",
   "metadata": {},
   "source": [
    " ***"
   ]
  },
  {
   "cell_type": "markdown",
   "metadata": {},
   "source": [
    "## Useful tools and commands."
   ]
  },
  {
   "cell_type": "markdown",
   "metadata": {},
   "source": [
    "### Z-test and t-test\n",
    "For a z-test, you will need properties from the normal distribution. For a t-test, you will need properties of the Student-t distribution. There are many to get these in python. One way is to use `scipy.stats`. You can `from scipy import stats` which gives you all of stats, or just import the normal distribution, which is called norm - `from scipy.stats import norm`, or import the t-distribution, `from scipy.stats import t`. "
   ]
  },
  {
   "cell_type": "code",
   "execution_count": 21,
   "metadata": {},
   "outputs": [],
   "source": [
    "from scipy import stats"
   ]
  },
  {
   "cell_type": "markdown",
   "metadata": {},
   "source": [
    "For all distributions in `scipy.stats`, the method `.pdf` gives the probability distribution, `.cdf` gives the cumulative distribution, `.ppf` gives an inverse of the cdf (very useful), and `.interval` gives a confidence interval. See https://docs.scipy.org/doc/scipy/reference/generated/scipy.stats.norm.html#scipy.stats.norm."
   ]
  },
  {
   "cell_type": "code",
   "execution_count": 2,
   "metadata": {},
   "outputs": [
    {
     "data": {
      "image/png": "[encoded data removed]",
      "text/plain": [
       "<Figure size 432x288 with 1 Axes>"
      ]
     },
     "metadata": {
      "needs_background": "light"
     },
     "output_type": "display_data"
    }
   ],
   "source": [
    "import numpy as np\n",
    "import matplotlib.pyplot as plt\n",
    "x=np.arange(0,10,0.05)\n",
    "y=norm.pdf(x,5,1) # PDF of a normal distribution with mean 5 and variance 1\n",
    "z=norm.cdf(x,5,1) # CDF of a normal distribution with mean 5 and variance 1\n",
    "plt.plot(x,y,label='Normal PDF')\n",
    "plt.plot(x,z,label='Normal CDF')\n",
    "plt.legend()\n",
    "plt.title('Normal distribution with mean 5 and var 1')\n",
    "plt.show()"
   ]
  },
  {
   "cell_type": "markdown",
   "metadata": {},
   "source": [
    "### Two-tailed test"
   ]
  },
  {
   "cell_type": "markdown",
   "metadata": {},
   "source": [
    "The confidence interval is a function of $\\alpha$ and is the smallest interval which contains $1-\\alpha$ of the probability. For a two-tailed test, if the test statistic is outside the confidence interval, the null hypothesis is rejected; if it is inside the confidence interval, the null hypothesis is not rejected. All distributions in `scipy.stats` have a method `interval` which computes confidence interval."
   ]
  },
  {
   "cell_type": "code",
   "execution_count": 51,
   "metadata": {},
   "outputs": [
    {
     "name": "stdout",
     "output_type": "stream",
     "text": [
      "The 95% confidence interval lies between 3.04 and 6.96.\n"
     ]
    },
    {
     "data": {
      "image/png": "[encoded data removed]",
      "text/plain": [
       "<Figure size 432x288 with 1 Axes>"
      ]
     },
     "metadata": {
      "needs_background": "light"
     },
     "output_type": "display_data"
    }
   ],
   "source": [
    "alpha = 0.05\n",
    "x=np.arange(0,10,0.05)\n",
    "y=stats.norm.pdf(x,5,1) # a normal distribution with mean 5 and variance 1\n",
    "plt.plot(x,y,label='Normal pdf')\n",
    "ci=stats.norm.interval(1-alpha,5,1)\n",
    "print(\"The 95%% confidence interval lies between %3.2f and %3.2f.\" %(ci[0],ci[1]))\n",
    "plt.plot([ci[0],ci[1]],[0.1,0.1],linewidth=2.0,label=\"95% Confidence interval\")\n",
    "plt.legend(loc=2)\n",
    "plt.title(\"The 95%% confidence interval lies between %3.2f and %3.2f.\" %(ci[0],ci[1]))\n",
    "plt.show()"
   ]
  },
  {
   "cell_type": "markdown",
   "metadata": {},
   "source": [
    "### One tail test\n",
    "Here is where `ppf` (the inverse of the cumulative distribution) is very useful. The lower tail critical value is where the cumulative distribution is equal to $\\alpha$. The upper tail critical value is where the cumulative distribution is equal to $1-\\alpha$. For a symmetric distribution (such as the normal or t distributions) the two critical values will be the same, but in general they will be different."
   ]
  },
  {
   "cell_type": "markdown",
   "metadata": {},
   "source": [
    "#### Lower tail and upper tail of a normal distribution with mean 5 and variance 1"
   ]
  },
  {
   "cell_type": "code",
   "execution_count": 44,
   "metadata": {},
   "outputs": [
    {
     "data": {
      "image/png": "[encoded data removed]",
      "text/plain": [
       "<Figure size 432x288 with 1 Axes>"
      ]
     },
     "metadata": {
      "needs_background": "light"
     },
     "output_type": "display_data"
    }
   ],
   "source": [
    "alpha = 0.05\n",
    "lower = stats.norm.ppf(alpha,5,1)\n",
    "upper = stats.norm.ppf(1-alpha,5,1)\n",
    "plt.plot(x,y)\n",
    "plt.plot([lower,lower],[0,0.2],label=\"Lower tail\")\n",
    "plt.plot([upper,upper],[0,0.2],label=\"Upper tail\")\n",
    "plt.legend()\n",
    "plt.title(\"Lower and upper critical values\")\n",
    "plt.show()"
   ]
  },
  {
   "cell_type": "code",
   "execution_count": null,
   "metadata": {},
   "outputs": [],
   "source": []
  },
  {
   "cell_type": "markdown",
   "metadata": {},
   "source": [
    "The t-distribution works in a similar way, except the so-called \"shape parameter\" is the number of degrees of freedom, rather than the variance, and the location parameter (the mean) comes after the degrees of freedom."
   ]
  },
  {
   "cell_type": "code",
   "execution_count": 42,
   "metadata": {},
   "outputs": [
    {
     "data": {
      "image/png": "[encoded data removed]",
      "text/plain": [
       "<Figure size 432x288 with 1 Axes>"
      ]
     },
     "metadata": {
      "needs_background": "light"
     },
     "output_type": "display_data"
    }
   ],
   "source": [
    "y10=stats.t.pdf(x,10,5)\n",
    "y30=stats.t.pdf(x,30,5)\n",
    "y100=stats.t.pdf(x,100,5)\n",
    "plt.plot(x,y10,label=\"10 degrees of freedom\")\n",
    "plt.plot(x,y30,label=\"30 degrees of freedom\")\n",
    "plt.plot(x,y100,label=\"100 degrees of freedom\")\n",
    "plt.plot(x,y,label='Normal pdf')\n",
    "plt.legend(loc=2)\n",
    "plt.title(\"Various t-distributions; mean 5\")\n",
    "plt.show()"
   ]
  },
  {
   "cell_type": "markdown",
   "metadata": {},
   "source": [
    "Notice how similar the t-distribution is to the normal distribution, even with the number of degrees of freedom as low as 10."
   ]
  },
  {
   "cell_type": "markdown",
   "metadata": {},
   "source": [
    "## Monte Carlo/Bootstrap sampling\n",
    "If you want to do the statistics by generating samples from the data, you can use the method, `numpy.random.choice`. The first argument is the orginal data; the second argument is the size of the sample. The third argument is a boolean, determining with the sampling is with replacement or without replacement. By default, it does sampling with replacement, which is what you will need. "
   ]
  },
  {
   "cell_type": "code",
   "execution_count": 47,
   "metadata": {},
   "outputs": [
    {
     "name": "stdout",
     "output_type": "stream",
     "text": [
      "[3 2 1 5]\n",
      "[1 2 3 4]\n"
     ]
    }
   ],
   "source": [
    "a=[1,2,3,4,5]\n",
    "b=np.random.choice(a,4)\n",
    "c=np.random.choice(a,4,replace=False) # sample without replacement. replace=True by default.\n",
    "print(b)\n",
    "print(c)"
   ]
  },
  {
   "cell_type": "markdown",
   "metadata": {},
   "source": [
    "# The end!"
   ]
  }
 ],
 "metadata": {
  "kernelspec": {
   "display_name": "Python 3 (ipykernel)",
   "language": "python",
   "name": "python3"
  },
  "language_info": {
   "codemirror_mode": {
    "name": "ipython",
    "version": 3
   },
   "file_extension": ".py",
   "mimetype": "text/x-python",
   "name": "python",
   "nbconvert_exporter": "python",
   "pygments_lexer": "ipython3",
   "version": "3.8.10"
  }
 },
 "nbformat": 4,
 "nbformat_minor": 4
}
