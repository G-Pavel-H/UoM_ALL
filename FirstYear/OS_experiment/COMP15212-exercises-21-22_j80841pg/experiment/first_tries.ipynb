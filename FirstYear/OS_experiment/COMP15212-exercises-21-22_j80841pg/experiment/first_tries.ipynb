{
 "cells": [
  {
   "cell_type": "markdown",
   "metadata": {},
   "source": [
    "# Introduction"
   ]
  },
  {
   "cell_type": "markdown",
   "metadata": {},
   "source": [
    "In order to correctly and efficiently analyze and compare the working of Cyclic and Least Recently Used type of caches, I am going to conduct experiments with different amounts of data. I will start from small amount and will increase twic after each test. This will help me to approximately find the value starting from which the memory hits  converge to some constant value(?).\n",
    "\n",
    "Alongside changing the amount of data, I will also change the cache size, which will allow me to view even more possible outcome scenarios."
   ]
  },
  {
   "cell_type": "markdown",
   "metadata": {},
   "source": [
    "# Set Up"
   ]
  },
  {
   "cell_type": "code",
   "execution_count": 129,
   "metadata": {},
   "outputs": [],
   "source": [
    "from memory import Memory\n",
    "from cache import CyclicCache, LRUCache\n",
    "import utilities\n",
    "import random\n",
    "import matplotlib.pyplot as plt #I am using matplotlib, an external python library, in order to implement graphing "
   ]
  },
  {
   "cell_type": "markdown",
   "metadata": {},
   "source": [
    "# Experiments"
   ]
  },
  {
   "cell_type": "code",
   "execution_count": 281,
   "metadata": {},
   "outputs": [],
   "source": [
    "def generate_data(data_arr, amount): #to create test data\n",
    "    some_data_test = []\n",
    "    count = 1\n",
    "    for x in range(amount):\n",
    "        for num in range(len(data_arr)-1):\n",
    "            if count == 1 or count == 2:\n",
    "                most_used_freq = random.randint(2, len(data)*0.2)\n",
    "                for y in range(most_used_freq):\n",
    "                    some_data_test.append(num)\n",
    "            count = random.randint(1,10)\n",
    "            some_data_test.append(num)\n",
    "    return some_data_test\n",
    "                \n",
    "                "
   ]
  },
  {
   "cell_type": "code",
   "execution_count": 306,
   "metadata": {},
   "outputs": [],
   "source": [
    "#Creating some functions in order to ease the procedure fo testing and creating data points.\n",
    "\n",
    "\n",
    "def test_the_memories(array_data, m_hits, l_hits, c_hits): #to test each memory \n",
    "    for address in array_data:\n",
    "        memory.lookup(address)\n",
    "        \n",
    "    m_hits.append(memory.get_memory_hit_count())\n",
    "    \n",
    "    for address in array_data:\n",
    "        lru.lookup(address)\n",
    "        \n",
    "    l_hits.append(lru.get_memory_hit_count())\n",
    "    \n",
    "    for address in array_data:\n",
    "        cyc.lookup(address)\n",
    "        \n",
    "    c_hits.append(cyc.get_memory_hit_count())\n",
    "    \n"
   ]
  },
  {
   "cell_type": "code",
   "execution_count": 307,
   "metadata": {},
   "outputs": [
    {
     "name": "stdout",
     "output_type": "stream",
     "text": [
      "[65528]\n",
      "[9500]\n",
      "[9500]\n"
     ]
    }
   ],
   "source": [
    "data = utilities.sample_data(size=20)\n",
    "test_data = generate_data(data, 500)\n",
    "\n",
    "mem = Memory(data)\n",
    "lru = LRUCache(data)\n",
    "cyc = CyclicCache(data)\n",
    "\n",
    "mem_hits = []\n",
    "lru_hits = []\n",
    "cyclic_hits =[]\n",
    "\n",
    "test_the_memories(test_data, mem_hits, lru_hits, cyclic_hits)\n",
    "\n",
    "print(mem_hits)\n",
    "print(lru_hits)\n",
    "print(cyclic_hits)\n",
    "\n"
   ]
  },
  {
   "cell_type": "code",
   "execution_count": null,
   "metadata": {},
   "outputs": [],
   "source": []
  },
  {
   "cell_type": "code",
   "execution_count": null,
   "metadata": {},
   "outputs": [],
   "source": []
  }
 ],
 "metadata": {
  "kernelspec": {
   "display_name": "Python 3 (ipykernel)",
   "language": "python",
   "name": "python3"
  },
  "language_info": {
   "codemirror_mode": {
    "name": "ipython",
    "version": 3
   },
   "file_extension": ".py",
   "mimetype": "text/x-python",
   "name": "python",
   "nbconvert_exporter": "python",
   "pygments_lexer": "ipython3",
   "version": "3.8.10"
  }
 },
 "nbformat": 4,
 "nbformat_minor": 2
}
